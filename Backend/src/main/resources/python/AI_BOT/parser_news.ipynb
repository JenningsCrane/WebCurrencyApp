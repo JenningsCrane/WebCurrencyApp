{
 "cells": [
  {
   "cell_type": "code",
   "execution_count": 16,
   "id": "32d9f922",
   "metadata": {},
   "outputs": [
    {
     "name": "stdout",
     "output_type": "stream",
     "text": [
      "Новости с https://lenta.ru/rubrics/economics/markets:\n",
      "Вывозить российскую пшеницу станет дороже\n",
      "УАЗ возобновил выпуск «Буханки»\n",
      "В России подешевела подготовка автомобиля к весне\n",
      "Россиянам рассказали о кардинальной перестройке рынка труда\n",
      "В России резко подорожал один вид рыбы\n",
      "Lada начали собирать в Азербайджане\n",
      "ЦБ продлил ограничения на денежные переводы за рубеж\n",
      "Россиянам станет дороже заказывать товары на зарубежных маркетплейсах\n",
      "Российским товарам захотели упростить доступ к прилавкам\n",
      "Китайские компании стали бояться выходить на биржу\n",
      "Назван самый популярный в России бренд дизельных машин\n",
      "В европейской стране заявили о вреде антироссийских санкций\n",
      "Россиянам назвали лучшие месяцы для отпуска\n",
      "Американского криптомиллиардера отправили в тюрьму на четверть века\n",
      "Биржевые цены на нефть выросли\n",
      "Россия отправила первую за год партию нефти Кубе\n",
      "Потребление газа в странах Северной Европы взлетело\n",
      "Россия резко нарастила вывоз плодоовощной продукции\n",
      "Назван главный иностранный поставщик мяса в Россию\n",
      "Производитель Jeep и Opel объявил о массовых увольнениях\n",
      "В России выросло число выявленных предприятий-фантомов\n",
      "Тинькофф-банк включили в реестр операторов по выпуску цифровых финактивов\n",
      "Объемы выпуска грузовиков в России взлетели\n",
      "Производство легковых машин в России резко выросло\n",
      "Крупнейшая экономика Европы столкнулась с еще одной проблемой\n",
      "В России рекордно выросло производство популярного лакомства\n",
      "Названы регионы с неуверенными в завтрашнем дне работниками\n",
      "Чиновникам в России стали закупать больше Lada\n",
      "Газ в Европе снова вырос в цене\n",
      "\n",
      "Новости с https://lenta.ru/rubrics/economics/finance:\n",
      "Альфа-Банк и «Алроса» запустили привязанные к продажам бриллиантов ЦФА\n",
      "В России стало больше финансово неустойчивых семей\n",
      "Швейцарские банки начали закрывать счета клиентам с российским гражданством\n",
      "Расходы россиян на 8 Марта серьезно превысили их траты на 23 Февраля\n",
      "Названа доля участвовавших в валютных операциях россиян\n",
      "В России стало больше долларовых миллиардеров\n",
      "Прибыль российских банков серьезно упала\n",
      "Владельцам Qiwi-кошельков упростили подачу заявлений на возврат денег\n",
      "Маск вернул себе титул богатейшего человека\n",
      "В России начали прием заявок на обмен заблокированными активами\n",
      "Российские банки массово спишут кредиты пострадавших при теракте в «Крокусе»\n",
      "Названа сумма ущерба «Крокус Сити Холлу» из-за теракта\n",
      "Банки подняли лимиты по кредиткам для россиян\n",
      "Россиянам рассказали о неважности уровня доходов для счастья\n",
      "В платежном сервисе для мигрантов зависли миллионы средств клиентов\n",
      "Россиянам назвали способ увеличить сбережения в несколько раз\n",
      "В России резко вырастет порог ущерба от экономических преступлений\n",
      "Банкам запретят открывать счета подросткам без согласия родителей\n",
      "Россиянам назвали лучшую альтернативу сбережениям в валюте\n",
      "Россиянам рассказали о налоговых вычетах в 2024 году\n",
      "В России одобрили налоговые льготы для долгосрочных сбережений\n",
      "Внедрение цифрового рубля призвали ускорить\n",
      "В России призвали закрыть лазейки для неуплаты НДФЛ\n",
      "Заработали изменения закона о выплатах вкладчикам лишившихся лицензии банков\n",
      "В России резко выросла стоимость увеличения груди\n",
      "Куба выразила интерес к открытию отделений российских банков в стране\n",
      "В АСВ отчитались по выплатам вкладчикам Киви Банка\n",
      "Российские компании признались в переманивании сотрудников\n",
      "В Госдуме рассказали о нужном для повышения налога размере заработков богатых\n",
      "\n"
     ]
    }
   ],
   "source": [
    "import requests\n",
    "import sys\n",
    "from bs4 import BeautifulSoup\n",
    "\n",
    "# Получаем входные значения\n",
    "arguments = sys.argv\n",
    "\n",
    "#if arguments[1] == \"cny\":\n",
    "valuta = \"Китайские Юани\"\n",
    "#elif arguments[1] == \"aed\":\n",
    "#valuta = \"Валюта Арабских эмиратов дирхамы\"\n",
    "#else:\n",
    "#    print(\"Нет входных аргументов\")\n",
    "#    quit()\n",
    "\n",
    "# URL веб-сайтов, с которых вы хотите спарсить новости\n",
    "url_lenta_1 = 'https://lenta.ru/rubrics/economics/markets'\n",
    "url_lenta_2 = 'https://lenta.ru/rubrics/economics/finance'\n",
    "\n",
    "# Пустая строка для сохранения заголовков новостей\n",
    "all_news = \"\"\n",
    "\n",
    "# Отправка GET запросов на веб-сайты\n",
    "response1 = requests.get(url_lenta_1)\n",
    "response2 = requests.get(url_lenta_2)\n",
    "\n",
    "# Проверка успешности запросов\n",
    "if response1.status_code == 200:\n",
    "    # Использование Beautiful Soup для парсинга HTML\n",
    "    soup1 = BeautifulSoup(response1.text, 'html.parser')\n",
    "    \n",
    "    # Нахождение всех заголовков новостей на первом сайте\n",
    "    news_headlines1 = soup1.find_all('h3', class_='card-full-news__title')  # Пример класса или тега, содержащего заголовки новостей\n",
    "\n",
    "    # Добавление заголовков новостей с первого сайта в общую строку\n",
    "    all_news += f\"Новости с {url_lenta_1}:\\n\"\n",
    "    for headline in news_headlines1:\n",
    "        all_news += headline.text + \"\\n\"\n",
    "else:\n",
    "    print('Ошибка при запросе веб-сайта', url_lenta_1)\n",
    "    \n",
    "if response2.status_code == 200:\n",
    "    # Использование Beautiful Soup для парсинга HTML\n",
    "    soup2 = BeautifulSoup(response2.text, 'html.parser')\n",
    "    \n",
    "    # Нахождение всех заголовков новостей на втором сайте\n",
    "    news_headlines2 = soup2.find_all('h3', class_='card-full-news__title')  # Пример класса или тега, содержащего заголовки новостей\n",
    "\n",
    "    # Добавление заголовков новостей со второго сайта в общую строку\n",
    "    all_news += f\"\\nНовости с {url_lenta_2}:\\n\"\n",
    "    for headline in news_headlines2:\n",
    "        all_news += headline.text + \"\\n\"\n",
    "else:\n",
    "    print('Ошибка при запросе веб-сайта', url_lenta_2)\n",
    "\n",
    "# Печать всех заголовков новостей в общей строке\n",
    "print(all_news)\n",
    "    "
   ]
  },
  {
   "cell_type": "code",
   "execution_count": 23,
   "id": "82b3211e",
   "metadata": {},
   "outputs": [],
   "source": [
    "# Используем Гигачат\n",
    "client_id = \"6a45ddd9-e7b9-4ebe-b99b-717aaa35a449\"\n",
    "auth = \"NmE0NWRkZDktZTdiOS00ZWJlLWI5OWItNzE3YWFhMzVhNDQ5OmRkOGJhNTBmLWNlNmItNDkwYy1iMDRkLWUxY2VmYTljZjBjYQ==\""
   ]
  },
  {
   "cell_type": "code",
   "execution_count": 24,
   "id": "5af4e9a8",
   "metadata": {},
   "outputs": [],
   "source": [
    "import requests\n",
    "import uuid\n",
    "\n",
    "def get_token(auth_token, scope='GIGACHAT_API_PERS'):\n",
    "    \"\"\"\n",
    "      Выполняет POST-запрос к эндпоинту, который выдает токен.\n",
    "\n",
    "      Параметры:\n",
    "      - auth_token (str): токен авторизации, необходимый для запроса.\n",
    "      - область (str): область действия запроса API. По умолчанию — «GIGACHAT_API_PERS».\n",
    "\n",
    "      Возвращает:\n",
    "      - ответ API, где токен и срок его \"годности\".\n",
    "      \"\"\"\n",
    "    # Создадим идентификатор UUID (36 знаков)\n",
    "    rq_uid = str(uuid.uuid4())\n",
    "\n",
    "    # API URL\n",
    "    url = \"https://ngw.devices.sberbank.ru:9443/api/v2/oauth\"\n",
    "\n",
    "    # Заголовки\n",
    "    headers = {\n",
    "        'Content-Type': 'application/x-www-form-urlencoded',\n",
    "        'Accept': 'application/json',\n",
    "        'RqUID': rq_uid,\n",
    "        'Authorization': f'Basic {auth_token}'\n",
    "    }\n",
    "\n",
    "    # Тело запроса\n",
    "    payload = {\n",
    "        'scope': scope\n",
    "    }\n",
    "\n",
    "    try:\n",
    "        # Делаем POST запрос с отключенной SSL верификацией\n",
    "        # (можно скачать сертификаты Минцифры, тогда отключать проверку не надо)\n",
    "        response = requests.post(url, headers=headers, data=payload, verify=False)\n",
    "        return response\n",
    "    except requests.RequestException as e:\n",
    "        print(f\"Ошибка: {str(e)}\")\n",
    "        return -1"
   ]
  },
  {
   "cell_type": "code",
   "execution_count": 25,
   "id": "594d7858",
   "metadata": {},
   "outputs": [
    {
     "name": "stdout",
     "output_type": "stream",
     "text": [
      "{\"access_token\":\"eyJjdHkiOiJqd3QiLCJlbmMiOiJBMjU2Q0JDLUhTNTEyIiwiYWxnIjoiUlNBLU9BRVAtMjU2In0.FI7Uf4OidjoAXzH7FHySbY6xkRFxpPbfpHGWf7O4gW3CNLKfZUkMFLMWdn6ntNTnJFwLMD-nuRvzjGdv7jY31KGpsk8yuScXg7XaOJAefbTPrQT85zdcwQ5LtRi4epTnAZnalwlK0Uc4GpLX6sbSFpOdwW8v0iOAAJ6GPjfyiCUcDHMZspsNN7I9fwjrxfttOe0IUBBYJDCTdVTGPij6ut8U49_Drcp41OIeMKt1joWEXKOAnq2C_Dg_i35Fbs7drgeDEHyFaYbffgEnzIesMU2NPLSJdrAEoD3I0__7daVqqe21gbrLELVHUML3VbAWDbXMQLYP26lnrHIEQ_2ckw.XqQxYLHEY4gBIxXCDp_g8A.ZysQ33YTNDL6oX-8qgr5ZmDc1ghMuHrEkqVcOmBHhaB2EH493_FIsnRgMdfKuwmiWKpb54RO68Z_kf-DEt-F53nH5Y-e1udj4Bip29R8yWrvXMLbe5mU66zoG0vxnULxuIHJzM3ubqgd15MKQ03HW83qbJPzjzOiOkh36276lxj9YkZP0x0Y8tB-og-kmfvo2vTPmmyGCDW4zOMK7IrfmSKRwz1XNQpZpbxhT2hFn1_K34lDwshzH2ejz231tA9LGwWnWtAE_yDBGSDll8AFZbA68g-3HZ4PguHoLZSxUaKdYI6LAemDwcK01HjWFPiGhXux1HPcZynQV3O1Ugag8xY5o-E06yQ5oxRLo9qQ-lCgLCkLpltDGvJF1MbLZ-0xcXN92K2PCUBLWXNEyjBmRywpRspbphqTRZTxY8QXPSQNUsdCvmJP1lUVb-xXgatsCsH6YGwDXG28jPG428hhB8IYgvvfDhFiusw25htc2B-SyWebkZdiHS49KyX456Ei3t6sm8bvuycD1iRzlUO-Uy8VUZ-zjoGxpavEpTt2rBxCRmJ_7P2ICX0kGB6HBGeo-gpBQrRCsF98hels1tX3VsOoFYPX9rMlj0EP_mqkBfZHm4qG5uCVr3bSsCObPL_svOvVWiyiu3OROsde3-5S8hh81Y1UpJy5lHLr294hnqPhXG6T04dFA5SzNl2aMN5AB6fv8YEZAxqNXtlIxqHAl7K-dl9tJw3qJ6AirChLlD8.sOgkuJGHmtIn0agI2GNk_bKmgK1UhultczNtzErheB8\",\"expires_at\":1711724383205}\n"
     ]
    },
    {
     "name": "stderr",
     "output_type": "stream",
     "text": [
      "C:\\ProgramData\\anaconda3\\lib\\site-packages\\urllib3\\connectionpool.py:1045: InsecureRequestWarning: Unverified HTTPS request is being made to host 'ngw.devices.sberbank.ru'. Adding certificate verification is strongly advised. See: https://urllib3.readthedocs.io/en/1.26.x/advanced-usage.html#ssl-warnings\n",
      "  warnings.warn(\n"
     ]
    }
   ],
   "source": [
    "response = get_token(auth)\n",
    "if response != 1:\n",
    "  print(response.text)\n",
    "  giga_token = response.json()['access_token']"
   ]
  },
  {
   "cell_type": "code",
   "execution_count": 26,
   "id": "143e6383",
   "metadata": {},
   "outputs": [
    {
     "name": "stdout",
     "output_type": "stream",
     "text": [
      "{\"object\":\"list\",\"data\":[{\"id\":\"GigaChat\",\"object\":\"model\",\"owned_by\":\"salutedevices\"},{\"id\":\"GigaChat-Plus\",\"object\":\"model\",\"owned_by\":\"salutedevices\"},{\"id\":\"GigaChat-Pro\",\"object\":\"model\",\"owned_by\":\"salutedevices\"},{\"id\":\"GigaChat-Pro-preview\",\"object\":\"model\",\"owned_by\":\"salutedevices\"}]}\n"
     ]
    },
    {
     "name": "stderr",
     "output_type": "stream",
     "text": [
      "C:\\ProgramData\\anaconda3\\lib\\site-packages\\urllib3\\connectionpool.py:1045: InsecureRequestWarning: Unverified HTTPS request is being made to host 'gigachat.devices.sberbank.ru'. Adding certificate verification is strongly advised. See: https://urllib3.readthedocs.io/en/1.26.x/advanced-usage.html#ssl-warnings\n",
      "  warnings.warn(\n"
     ]
    }
   ],
   "source": [
    "import requests\n",
    "\n",
    "url = \"https://gigachat.devices.sberbank.ru/api/v1/models\"\n",
    "\n",
    "payload={}\n",
    "headers = {\n",
    "  'Accept': 'application/json',\n",
    "  'Authorization': f'Bearer {giga_token}'\n",
    "}\n",
    "\n",
    "response = requests.request(\"GET\", url, headers=headers, data=payload, verify=False)\n",
    "\n",
    "print(response.text)"
   ]
  },
  {
   "cell_type": "code",
   "execution_count": 35,
   "id": "ba87e8b4",
   "metadata": {
    "scrolled": false
   },
   "outputs": [
    {
     "name": "stderr",
     "output_type": "stream",
     "text": [
      "C:\\ProgramData\\anaconda3\\lib\\site-packages\\urllib3\\connectionpool.py:1045: InsecureRequestWarning: Unverified HTTPS request is being made to host 'gigachat.devices.sberbank.ru'. Adding certificate verification is strongly advised. See: https://urllib3.readthedocs.io/en/1.26.x/advanced-usage.html#ssl-warnings\n",
      "  warnings.warn(\n"
     ]
    },
    {
     "name": "stdout",
     "output_type": "stream",
     "text": [
      "Анализируя новостные заголовки, можно сделать вывод, что в данный момент не рекомендуется покупать юани. Это связано с текущей ситуацией, макроэкономическими трендами и финансовыми аспектами. В частности, в новостях упоминается о том, что китайские компании стали бояться выходить на биржу, а также о том, что в России резко выросла стоимость увеличения груди. Это может указывать на нестабильность и неопределенность в экономике Китая и России, что делает инвестиции в юани рискованными.\n"
     ]
    },
    {
     "data": {
      "text/markdown": [
       "Анализируя новостные заголовки, можно сделать вывод, что в данный момент не рекомендуется покупать юани. Это связано с текущей ситуацией, макроэкономическими трендами и финансовыми аспектами. В частности, в новостях упоминается о том, что китайские компании стали бояться выходить на биржу, а также о том, что в России резко выросла стоимость увеличения груди. Это может указывать на нестабильность и неопределенность в экономике Китая и России, что делает инвестиции в юани рискованными."
      ],
      "text/plain": [
       "<IPython.core.display.Markdown object>"
      ]
     },
     "metadata": {},
     "output_type": "display_data"
    }
   ],
   "source": [
    "import requests\n",
    "import json\n",
    "\n",
    "def get_chat_completion(auth_token, user_message):\n",
    "    \"\"\"\n",
    "    Отправляет POST-запрос к API чата для получения ответа от модели GigaChat.\n",
    "\n",
    "    Параметры:\n",
    "    - auth_token (str): Токен для авторизации в API.\n",
    "    - user_message (str): Сообщение от пользователя, для которого нужно получить ответ.\n",
    "\n",
    "    Возвращает:\n",
    "    - str: Ответ от API в виде текстовой строки.\n",
    "    \"\"\"\n",
    "    # URL API, к которому мы обращаемся\n",
    "    url = \"https://gigachat.devices.sberbank.ru/api/v1/chat/completions\"\n",
    "\n",
    "    # Подготовка данных запроса в формате JSON\n",
    "    payload = json.dumps({\n",
    "        \"model\": \"GigaChat\",  # Используемая модель\n",
    "        \"messages\": [\n",
    "            {\n",
    "                \"role\": \"user\",  # Роль отправителя (пользователь)\n",
    "                \"content\": user_message  # Содержание сообщения\n",
    "            }\n",
    "        ],\n",
    "        \"temperature\": 1,  # Температура генерации\n",
    "        \"top_p\": 0.1,  # Параметр top_p для контроля разнообразия ответов\n",
    "        \"n\": 1,  # Количество возвращаемых ответов\n",
    "        \"stream\": False,  # Потоковая ли передача ответов\n",
    "        \"max_tokens\": 512,  # Максимальное количество токенов в ответе\n",
    "        \"repetition_penalty\": 1,  # Штраф за повторения\n",
    "        \"update_interval\": 0  # Интервал обновления (для потоковой передачи)\n",
    "    })\n",
    "\n",
    "    # Заголовки запроса\n",
    "    headers = {\n",
    "        'Content-Type': 'application/json',  # Тип содержимого - JSON\n",
    "        'Accept': 'application/json',  # Принимаем ответ в формате JSON\n",
    "        'Authorization': f'Bearer {auth_token}'  # Токен авторизации\n",
    "    }\n",
    "\n",
    "    # Выполнение POST-запроса и возвращение ответа\n",
    "    try:\n",
    "        response = requests.request(\"POST\", url, headers=headers, data=payload, verify=False)\n",
    "        return response\n",
    "    except requests.RequestException as e:\n",
    "        # Обработка исключения в случае ошибки запроса\n",
    "        print(f\"Произошла ошибка: {str(e)}\")\n",
    "        return -1\n",
    "\n",
    "\n",
    "     \n",
    "\n",
    "answer = get_chat_completion(giga_token, \"Пожалуйста, проанализируйте следующие новостные заголовки и дайте мне четкий ответ: можно ли в данный момент покупать\" + valuta +\"? Состоятельность данной инвестиции зависит от текущей ситуации, макроэкономических трендов и финансовых аспектов. Ответь чётко по делу. Вот заголовки новостей для вашего анализа:\" + all_news)\n",
    "     \n",
    "\n",
    "answer.json()\n",
    "     \n",
    "# Открываем файл для записи ('w' означает режим записи)\n",
    "with open('./gigachat.out/out.txt', 'w', encoding='utf-8') as file:\n",
    "    file.write(text)\n",
    "\n",
    "print(\"Текст успешно сохранен в файл ./gigachat.out/out.txt\")\n",
    "\n",
    "print(answer.json()['choices'][0]['message']['content'])\n",
    "     \n",
    "\n",
    "from IPython.display import display, Markdown\n",
    "display(Markdown(answer.json()['choices'][0]['message']['content']))"
   ]
  },
  {
   "cell_type": "code",
   "execution_count": null,
   "id": "f32849ad",
   "metadata": {},
   "outputs": [],
   "source": []
  },
  {
   "cell_type": "code",
   "execution_count": null,
   "id": "c3905bcd",
   "metadata": {},
   "outputs": [],
   "source": []
  }
 ],
 "metadata": {
  "kernelspec": {
   "display_name": "Python 3 (ipykernel)",
   "language": "python",
   "name": "python3"
  },
  "language_info": {
   "codemirror_mode": {
    "name": "ipython",
    "version": 3
   },
   "file_extension": ".py",
   "mimetype": "text/x-python",
   "name": "python",
   "nbconvert_exporter": "python",
   "pygments_lexer": "ipython3",
   "version": "3.10.9"
  }
 },
 "nbformat": 4,
 "nbformat_minor": 5
}
